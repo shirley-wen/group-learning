{
 "cells": [
  {
   "cell_type": "code",
   "execution_count": 1,
   "metadata": {},
   "outputs": [],
   "source": [
    "library (tree )\n",
    "library (ISLR )"
   ]
  },
  {
   "cell_type": "markdown",
   "metadata": {},
   "source": [
    "#### Carseats data set\n",
    "Sales is a continuous variable, and so we begin by recoding it as a binary variable. We use the ifelse() function to create a variable, called ifelse() High, which takes on a value of Yes if the Sales variable exceeds 8, and takes on a value of No otherwise."
   ]
  },
  {
   "cell_type": "code",
   "execution_count": 2,
   "metadata": {},
   "outputs": [],
   "source": [
    "attach ( Carseats )\n",
    "High = ifelse (Sales <=8 ,\" No\",\" Yes \")"
   ]
  },
  {
   "cell_type": "markdown",
   "metadata": {},
   "source": [
    "Finally, we use the data.frame() function to merge High with the rest of the Carseats data."
   ]
  },
  {
   "cell_type": "code",
   "execution_count": 4,
   "metadata": {},
   "outputs": [],
   "source": [
    "Carseats = data.frame (Carseats, High)"
   ]
  },
  {
   "cell_type": "markdown",
   "metadata": {},
   "source": [
    "We now use the tree() function to fit a classification tree in order to predict tree() High using all variables but Sales. The syntax of the tree() function is quite similar to that of the lm() function."
   ]
  },
  {
   "cell_type": "code",
   "execution_count": 11,
   "metadata": {},
   "outputs": [
    {
     "data": {
      "text/html": [
       "<table>\n",
       "<caption>A data.frame: 400 × 12</caption>\n",
       "<thead>\n",
       "\t<tr><th scope=col>Sales</th><th scope=col>CompPrice</th><th scope=col>Income</th><th scope=col>Advertising</th><th scope=col>Population</th><th scope=col>Price</th><th scope=col>ShelveLoc</th><th scope=col>Age</th><th scope=col>Education</th><th scope=col>Urban</th><th scope=col>US</th><th scope=col>High</th></tr>\n",
       "\t<tr><th scope=col>&lt;dbl&gt;</th><th scope=col>&lt;dbl&gt;</th><th scope=col>&lt;dbl&gt;</th><th scope=col>&lt;dbl&gt;</th><th scope=col>&lt;dbl&gt;</th><th scope=col>&lt;dbl&gt;</th><th scope=col>&lt;fct&gt;</th><th scope=col>&lt;dbl&gt;</th><th scope=col>&lt;dbl&gt;</th><th scope=col>&lt;fct&gt;</th><th scope=col>&lt;fct&gt;</th><th scope=col>&lt;fct&gt;</th></tr>\n",
       "</thead>\n",
       "<tbody>\n",
       "\t<tr><td> 9.50</td><td>138</td><td> 73</td><td>11</td><td>276</td><td>120</td><td>Bad   </td><td>42</td><td>17</td><td>Yes</td><td>Yes</td><td> Yes </td></tr>\n",
       "\t<tr><td>11.22</td><td>111</td><td> 48</td><td>16</td><td>260</td><td> 83</td><td>Good  </td><td>65</td><td>10</td><td>Yes</td><td>Yes</td><td> Yes </td></tr>\n",
       "\t<tr><td>10.06</td><td>113</td><td> 35</td><td>10</td><td>269</td><td> 80</td><td>Medium</td><td>59</td><td>12</td><td>Yes</td><td>Yes</td><td> Yes </td></tr>\n",
       "\t<tr><td> 7.40</td><td>117</td><td>100</td><td> 4</td><td>466</td><td> 97</td><td>Medium</td><td>55</td><td>14</td><td>Yes</td><td>Yes</td><td> No  </td></tr>\n",
       "\t<tr><td> 4.15</td><td>141</td><td> 64</td><td> 3</td><td>340</td><td>128</td><td>Bad   </td><td>38</td><td>13</td><td>Yes</td><td>No </td><td> No  </td></tr>\n",
       "\t<tr><td>10.81</td><td>124</td><td>113</td><td>13</td><td>501</td><td> 72</td><td>Bad   </td><td>78</td><td>16</td><td>No </td><td>Yes</td><td> Yes </td></tr>\n",
       "\t<tr><td> 6.63</td><td>115</td><td>105</td><td> 0</td><td> 45</td><td>108</td><td>Medium</td><td>71</td><td>15</td><td>Yes</td><td>No </td><td> No  </td></tr>\n",
       "\t<tr><td>11.85</td><td>136</td><td> 81</td><td>15</td><td>425</td><td>120</td><td>Good  </td><td>67</td><td>10</td><td>Yes</td><td>Yes</td><td> Yes </td></tr>\n",
       "\t<tr><td> 6.54</td><td>132</td><td>110</td><td> 0</td><td>108</td><td>124</td><td>Medium</td><td>76</td><td>10</td><td>No </td><td>No </td><td> No  </td></tr>\n",
       "\t<tr><td> 4.69</td><td>132</td><td>113</td><td> 0</td><td>131</td><td>124</td><td>Medium</td><td>76</td><td>17</td><td>No </td><td>Yes</td><td> No  </td></tr>\n",
       "\t<tr><td> 9.01</td><td>121</td><td> 78</td><td> 9</td><td>150</td><td>100</td><td>Bad   </td><td>26</td><td>10</td><td>No </td><td>Yes</td><td> Yes </td></tr>\n",
       "\t<tr><td>11.96</td><td>117</td><td> 94</td><td> 4</td><td>503</td><td> 94</td><td>Good  </td><td>50</td><td>13</td><td>Yes</td><td>Yes</td><td> Yes </td></tr>\n",
       "\t<tr><td> 3.98</td><td>122</td><td> 35</td><td> 2</td><td>393</td><td>136</td><td>Medium</td><td>62</td><td>18</td><td>Yes</td><td>No </td><td> No  </td></tr>\n",
       "\t<tr><td>10.96</td><td>115</td><td> 28</td><td>11</td><td> 29</td><td> 86</td><td>Good  </td><td>53</td><td>18</td><td>Yes</td><td>Yes</td><td> Yes </td></tr>\n",
       "\t<tr><td>11.17</td><td>107</td><td>117</td><td>11</td><td>148</td><td>118</td><td>Good  </td><td>52</td><td>18</td><td>Yes</td><td>Yes</td><td> Yes </td></tr>\n",
       "\t<tr><td> 8.71</td><td>149</td><td> 95</td><td> 5</td><td>400</td><td>144</td><td>Medium</td><td>76</td><td>18</td><td>No </td><td>No </td><td> Yes </td></tr>\n",
       "\t<tr><td> 7.58</td><td>118</td><td> 32</td><td> 0</td><td>284</td><td>110</td><td>Good  </td><td>63</td><td>13</td><td>Yes</td><td>No </td><td> No  </td></tr>\n",
       "\t<tr><td>12.29</td><td>147</td><td> 74</td><td>13</td><td>251</td><td>131</td><td>Good  </td><td>52</td><td>10</td><td>Yes</td><td>Yes</td><td> Yes </td></tr>\n",
       "\t<tr><td>13.91</td><td>110</td><td>110</td><td> 0</td><td>408</td><td> 68</td><td>Good  </td><td>46</td><td>17</td><td>No </td><td>Yes</td><td> Yes </td></tr>\n",
       "\t<tr><td> 8.73</td><td>129</td><td> 76</td><td>16</td><td> 58</td><td>121</td><td>Medium</td><td>69</td><td>12</td><td>Yes</td><td>Yes</td><td> Yes </td></tr>\n",
       "\t<tr><td> 6.41</td><td>125</td><td> 90</td><td> 2</td><td>367</td><td>131</td><td>Medium</td><td>35</td><td>18</td><td>Yes</td><td>Yes</td><td> No  </td></tr>\n",
       "\t<tr><td>12.13</td><td>134</td><td> 29</td><td>12</td><td>239</td><td>109</td><td>Good  </td><td>62</td><td>18</td><td>No </td><td>Yes</td><td> Yes </td></tr>\n",
       "\t<tr><td> 5.08</td><td>128</td><td> 46</td><td> 6</td><td>497</td><td>138</td><td>Medium</td><td>42</td><td>13</td><td>Yes</td><td>No </td><td> No  </td></tr>\n",
       "\t<tr><td> 5.87</td><td>121</td><td> 31</td><td> 0</td><td>292</td><td>109</td><td>Medium</td><td>79</td><td>10</td><td>Yes</td><td>No </td><td> No  </td></tr>\n",
       "\t<tr><td>10.14</td><td>145</td><td>119</td><td>16</td><td>294</td><td>113</td><td>Bad   </td><td>42</td><td>12</td><td>Yes</td><td>Yes</td><td> Yes </td></tr>\n",
       "\t<tr><td>14.90</td><td>139</td><td> 32</td><td> 0</td><td>176</td><td> 82</td><td>Good  </td><td>54</td><td>11</td><td>No </td><td>No </td><td> Yes </td></tr>\n",
       "\t<tr><td> 8.33</td><td>107</td><td>115</td><td>11</td><td>496</td><td>131</td><td>Good  </td><td>50</td><td>11</td><td>No </td><td>Yes</td><td> Yes </td></tr>\n",
       "\t<tr><td> 5.27</td><td> 98</td><td>118</td><td> 0</td><td> 19</td><td>107</td><td>Medium</td><td>64</td><td>17</td><td>Yes</td><td>No </td><td> No  </td></tr>\n",
       "\t<tr><td> 2.99</td><td>103</td><td> 74</td><td> 0</td><td>359</td><td> 97</td><td>Bad   </td><td>55</td><td>11</td><td>Yes</td><td>Yes</td><td> No  </td></tr>\n",
       "\t<tr><td> 7.81</td><td>104</td><td> 99</td><td>15</td><td>226</td><td>102</td><td>Bad   </td><td>58</td><td>17</td><td>Yes</td><td>Yes</td><td> No  </td></tr>\n",
       "\t<tr><td>...</td><td>...</td><td>...</td><td>...</td><td>...</td><td>...</td><td>...</td><td>...</td><td>...</td><td>...</td><td>...</td><td>...</td></tr>\n",
       "\t<tr><td> 7.68</td><td>126</td><td> 41</td><td>22</td><td>403</td><td>119</td><td>Bad   </td><td>42</td><td>12</td><td>Yes</td><td>Yes</td><td> No  </td></tr>\n",
       "\t<tr><td> 9.08</td><td>152</td><td> 81</td><td> 0</td><td>191</td><td>126</td><td>Medium</td><td>54</td><td>16</td><td>Yes</td><td>No </td><td> Yes </td></tr>\n",
       "\t<tr><td> 7.80</td><td>121</td><td> 50</td><td> 0</td><td>508</td><td> 98</td><td>Medium</td><td>65</td><td>11</td><td>No </td><td>No </td><td> No  </td></tr>\n",
       "\t<tr><td> 5.58</td><td>137</td><td> 71</td><td> 0</td><td>402</td><td>116</td><td>Medium</td><td>78</td><td>17</td><td>Yes</td><td>No </td><td> No  </td></tr>\n",
       "\t<tr><td> 9.44</td><td>131</td><td> 47</td><td> 7</td><td> 90</td><td>118</td><td>Medium</td><td>47</td><td>12</td><td>Yes</td><td>Yes</td><td> Yes </td></tr>\n",
       "\t<tr><td> 7.90</td><td>132</td><td> 46</td><td> 4</td><td>206</td><td>124</td><td>Medium</td><td>73</td><td>11</td><td>Yes</td><td>No </td><td> No  </td></tr>\n",
       "\t<tr><td>16.27</td><td>141</td><td> 60</td><td>19</td><td>319</td><td> 92</td><td>Good  </td><td>44</td><td>11</td><td>Yes</td><td>Yes</td><td> Yes </td></tr>\n",
       "\t<tr><td> 6.81</td><td>132</td><td> 61</td><td> 0</td><td>263</td><td>125</td><td>Medium</td><td>41</td><td>12</td><td>No </td><td>No </td><td> No  </td></tr>\n",
       "\t<tr><td> 6.11</td><td>133</td><td> 88</td><td> 3</td><td>105</td><td>119</td><td>Medium</td><td>79</td><td>12</td><td>Yes</td><td>Yes</td><td> No  </td></tr>\n",
       "\t<tr><td> 5.81</td><td>125</td><td>111</td><td> 0</td><td>404</td><td>107</td><td>Bad   </td><td>54</td><td>15</td><td>Yes</td><td>No </td><td> No  </td></tr>\n",
       "\t<tr><td> 9.64</td><td>106</td><td> 64</td><td>10</td><td> 17</td><td> 89</td><td>Medium</td><td>68</td><td>17</td><td>Yes</td><td>Yes</td><td> Yes </td></tr>\n",
       "\t<tr><td> 3.90</td><td>124</td><td> 65</td><td>21</td><td>496</td><td>151</td><td>Bad   </td><td>77</td><td>13</td><td>Yes</td><td>Yes</td><td> No  </td></tr>\n",
       "\t<tr><td> 4.95</td><td>121</td><td> 28</td><td>19</td><td>315</td><td>121</td><td>Medium</td><td>66</td><td>14</td><td>Yes</td><td>Yes</td><td> No  </td></tr>\n",
       "\t<tr><td> 9.35</td><td> 98</td><td>117</td><td> 0</td><td> 76</td><td> 68</td><td>Medium</td><td>63</td><td>10</td><td>Yes</td><td>No </td><td> Yes </td></tr>\n",
       "\t<tr><td>12.85</td><td>123</td><td> 37</td><td>15</td><td>348</td><td>112</td><td>Good  </td><td>28</td><td>12</td><td>Yes</td><td>Yes</td><td> Yes </td></tr>\n",
       "\t<tr><td> 5.87</td><td>131</td><td> 73</td><td>13</td><td>455</td><td>132</td><td>Medium</td><td>62</td><td>17</td><td>Yes</td><td>Yes</td><td> No  </td></tr>\n",
       "\t<tr><td> 5.32</td><td>152</td><td>116</td><td> 0</td><td>170</td><td>160</td><td>Medium</td><td>39</td><td>16</td><td>Yes</td><td>No </td><td> No  </td></tr>\n",
       "\t<tr><td> 8.67</td><td>142</td><td> 73</td><td>14</td><td>238</td><td>115</td><td>Medium</td><td>73</td><td>14</td><td>No </td><td>Yes</td><td> Yes </td></tr>\n",
       "\t<tr><td> 8.14</td><td>135</td><td> 89</td><td>11</td><td>245</td><td> 78</td><td>Bad   </td><td>79</td><td>16</td><td>Yes</td><td>Yes</td><td> Yes </td></tr>\n",
       "\t<tr><td> 8.44</td><td>128</td><td> 42</td><td> 8</td><td>328</td><td>107</td><td>Medium</td><td>35</td><td>12</td><td>Yes</td><td>Yes</td><td> Yes </td></tr>\n",
       "\t<tr><td> 5.47</td><td>108</td><td> 75</td><td> 9</td><td> 61</td><td>111</td><td>Medium</td><td>67</td><td>12</td><td>Yes</td><td>Yes</td><td> No  </td></tr>\n",
       "\t<tr><td> 6.10</td><td>153</td><td> 63</td><td> 0</td><td> 49</td><td>124</td><td>Bad   </td><td>56</td><td>16</td><td>Yes</td><td>No </td><td> No  </td></tr>\n",
       "\t<tr><td> 4.53</td><td>129</td><td> 42</td><td>13</td><td>315</td><td>130</td><td>Bad   </td><td>34</td><td>13</td><td>Yes</td><td>Yes</td><td> No  </td></tr>\n",
       "\t<tr><td> 5.57</td><td>109</td><td> 51</td><td>10</td><td> 26</td><td>120</td><td>Medium</td><td>30</td><td>17</td><td>No </td><td>Yes</td><td> No  </td></tr>\n",
       "\t<tr><td> 5.35</td><td>130</td><td> 58</td><td>19</td><td>366</td><td>139</td><td>Bad   </td><td>33</td><td>16</td><td>Yes</td><td>Yes</td><td> No  </td></tr>\n",
       "\t<tr><td>12.57</td><td>138</td><td>108</td><td>17</td><td>203</td><td>128</td><td>Good  </td><td>33</td><td>14</td><td>Yes</td><td>Yes</td><td> Yes </td></tr>\n",
       "\t<tr><td> 6.14</td><td>139</td><td> 23</td><td> 3</td><td> 37</td><td>120</td><td>Medium</td><td>55</td><td>11</td><td>No </td><td>Yes</td><td> No  </td></tr>\n",
       "\t<tr><td> 7.41</td><td>162</td><td> 26</td><td>12</td><td>368</td><td>159</td><td>Medium</td><td>40</td><td>18</td><td>Yes</td><td>Yes</td><td> No  </td></tr>\n",
       "\t<tr><td> 5.94</td><td>100</td><td> 79</td><td> 7</td><td>284</td><td> 95</td><td>Bad   </td><td>50</td><td>12</td><td>Yes</td><td>Yes</td><td> No  </td></tr>\n",
       "\t<tr><td> 9.71</td><td>134</td><td> 37</td><td> 0</td><td> 27</td><td>120</td><td>Good  </td><td>49</td><td>16</td><td>Yes</td><td>Yes</td><td> Yes </td></tr>\n",
       "</tbody>\n",
       "</table>\n"
      ],
      "text/latex": [
       "A data.frame: 400 × 12\n",
       "\\begin{tabular}{r|llllllllllll}\n",
       " Sales & CompPrice & Income & Advertising & Population & Price & ShelveLoc & Age & Education & Urban & US & High\\\\\n",
       " <dbl> & <dbl> & <dbl> & <dbl> & <dbl> & <dbl> & <fct> & <dbl> & <dbl> & <fct> & <fct> & <fct>\\\\\n",
       "\\hline\n",
       "\t  9.50 & 138 &  73 & 11 & 276 & 120 & Bad    & 42 & 17 & Yes & Yes &  Yes \\\\\n",
       "\t 11.22 & 111 &  48 & 16 & 260 &  83 & Good   & 65 & 10 & Yes & Yes &  Yes \\\\\n",
       "\t 10.06 & 113 &  35 & 10 & 269 &  80 & Medium & 59 & 12 & Yes & Yes &  Yes \\\\\n",
       "\t  7.40 & 117 & 100 &  4 & 466 &  97 & Medium & 55 & 14 & Yes & Yes &  No  \\\\\n",
       "\t  4.15 & 141 &  64 &  3 & 340 & 128 & Bad    & 38 & 13 & Yes & No  &  No  \\\\\n",
       "\t 10.81 & 124 & 113 & 13 & 501 &  72 & Bad    & 78 & 16 & No  & Yes &  Yes \\\\\n",
       "\t  6.63 & 115 & 105 &  0 &  45 & 108 & Medium & 71 & 15 & Yes & No  &  No  \\\\\n",
       "\t 11.85 & 136 &  81 & 15 & 425 & 120 & Good   & 67 & 10 & Yes & Yes &  Yes \\\\\n",
       "\t  6.54 & 132 & 110 &  0 & 108 & 124 & Medium & 76 & 10 & No  & No  &  No  \\\\\n",
       "\t  4.69 & 132 & 113 &  0 & 131 & 124 & Medium & 76 & 17 & No  & Yes &  No  \\\\\n",
       "\t  9.01 & 121 &  78 &  9 & 150 & 100 & Bad    & 26 & 10 & No  & Yes &  Yes \\\\\n",
       "\t 11.96 & 117 &  94 &  4 & 503 &  94 & Good   & 50 & 13 & Yes & Yes &  Yes \\\\\n",
       "\t  3.98 & 122 &  35 &  2 & 393 & 136 & Medium & 62 & 18 & Yes & No  &  No  \\\\\n",
       "\t 10.96 & 115 &  28 & 11 &  29 &  86 & Good   & 53 & 18 & Yes & Yes &  Yes \\\\\n",
       "\t 11.17 & 107 & 117 & 11 & 148 & 118 & Good   & 52 & 18 & Yes & Yes &  Yes \\\\\n",
       "\t  8.71 & 149 &  95 &  5 & 400 & 144 & Medium & 76 & 18 & No  & No  &  Yes \\\\\n",
       "\t  7.58 & 118 &  32 &  0 & 284 & 110 & Good   & 63 & 13 & Yes & No  &  No  \\\\\n",
       "\t 12.29 & 147 &  74 & 13 & 251 & 131 & Good   & 52 & 10 & Yes & Yes &  Yes \\\\\n",
       "\t 13.91 & 110 & 110 &  0 & 408 &  68 & Good   & 46 & 17 & No  & Yes &  Yes \\\\\n",
       "\t  8.73 & 129 &  76 & 16 &  58 & 121 & Medium & 69 & 12 & Yes & Yes &  Yes \\\\\n",
       "\t  6.41 & 125 &  90 &  2 & 367 & 131 & Medium & 35 & 18 & Yes & Yes &  No  \\\\\n",
       "\t 12.13 & 134 &  29 & 12 & 239 & 109 & Good   & 62 & 18 & No  & Yes &  Yes \\\\\n",
       "\t  5.08 & 128 &  46 &  6 & 497 & 138 & Medium & 42 & 13 & Yes & No  &  No  \\\\\n",
       "\t  5.87 & 121 &  31 &  0 & 292 & 109 & Medium & 79 & 10 & Yes & No  &  No  \\\\\n",
       "\t 10.14 & 145 & 119 & 16 & 294 & 113 & Bad    & 42 & 12 & Yes & Yes &  Yes \\\\\n",
       "\t 14.90 & 139 &  32 &  0 & 176 &  82 & Good   & 54 & 11 & No  & No  &  Yes \\\\\n",
       "\t  8.33 & 107 & 115 & 11 & 496 & 131 & Good   & 50 & 11 & No  & Yes &  Yes \\\\\n",
       "\t  5.27 &  98 & 118 &  0 &  19 & 107 & Medium & 64 & 17 & Yes & No  &  No  \\\\\n",
       "\t  2.99 & 103 &  74 &  0 & 359 &  97 & Bad    & 55 & 11 & Yes & Yes &  No  \\\\\n",
       "\t  7.81 & 104 &  99 & 15 & 226 & 102 & Bad    & 58 & 17 & Yes & Yes &  No  \\\\\n",
       "\t ... & ... & ... & ... & ... & ... & ... & ... & ... & ... & ... & ...\\\\\n",
       "\t  7.68 & 126 &  41 & 22 & 403 & 119 & Bad    & 42 & 12 & Yes & Yes &  No  \\\\\n",
       "\t  9.08 & 152 &  81 &  0 & 191 & 126 & Medium & 54 & 16 & Yes & No  &  Yes \\\\\n",
       "\t  7.80 & 121 &  50 &  0 & 508 &  98 & Medium & 65 & 11 & No  & No  &  No  \\\\\n",
       "\t  5.58 & 137 &  71 &  0 & 402 & 116 & Medium & 78 & 17 & Yes & No  &  No  \\\\\n",
       "\t  9.44 & 131 &  47 &  7 &  90 & 118 & Medium & 47 & 12 & Yes & Yes &  Yes \\\\\n",
       "\t  7.90 & 132 &  46 &  4 & 206 & 124 & Medium & 73 & 11 & Yes & No  &  No  \\\\\n",
       "\t 16.27 & 141 &  60 & 19 & 319 &  92 & Good   & 44 & 11 & Yes & Yes &  Yes \\\\\n",
       "\t  6.81 & 132 &  61 &  0 & 263 & 125 & Medium & 41 & 12 & No  & No  &  No  \\\\\n",
       "\t  6.11 & 133 &  88 &  3 & 105 & 119 & Medium & 79 & 12 & Yes & Yes &  No  \\\\\n",
       "\t  5.81 & 125 & 111 &  0 & 404 & 107 & Bad    & 54 & 15 & Yes & No  &  No  \\\\\n",
       "\t  9.64 & 106 &  64 & 10 &  17 &  89 & Medium & 68 & 17 & Yes & Yes &  Yes \\\\\n",
       "\t  3.90 & 124 &  65 & 21 & 496 & 151 & Bad    & 77 & 13 & Yes & Yes &  No  \\\\\n",
       "\t  4.95 & 121 &  28 & 19 & 315 & 121 & Medium & 66 & 14 & Yes & Yes &  No  \\\\\n",
       "\t  9.35 &  98 & 117 &  0 &  76 &  68 & Medium & 63 & 10 & Yes & No  &  Yes \\\\\n",
       "\t 12.85 & 123 &  37 & 15 & 348 & 112 & Good   & 28 & 12 & Yes & Yes &  Yes \\\\\n",
       "\t  5.87 & 131 &  73 & 13 & 455 & 132 & Medium & 62 & 17 & Yes & Yes &  No  \\\\\n",
       "\t  5.32 & 152 & 116 &  0 & 170 & 160 & Medium & 39 & 16 & Yes & No  &  No  \\\\\n",
       "\t  8.67 & 142 &  73 & 14 & 238 & 115 & Medium & 73 & 14 & No  & Yes &  Yes \\\\\n",
       "\t  8.14 & 135 &  89 & 11 & 245 &  78 & Bad    & 79 & 16 & Yes & Yes &  Yes \\\\\n",
       "\t  8.44 & 128 &  42 &  8 & 328 & 107 & Medium & 35 & 12 & Yes & Yes &  Yes \\\\\n",
       "\t  5.47 & 108 &  75 &  9 &  61 & 111 & Medium & 67 & 12 & Yes & Yes &  No  \\\\\n",
       "\t  6.10 & 153 &  63 &  0 &  49 & 124 & Bad    & 56 & 16 & Yes & No  &  No  \\\\\n",
       "\t  4.53 & 129 &  42 & 13 & 315 & 130 & Bad    & 34 & 13 & Yes & Yes &  No  \\\\\n",
       "\t  5.57 & 109 &  51 & 10 &  26 & 120 & Medium & 30 & 17 & No  & Yes &  No  \\\\\n",
       "\t  5.35 & 130 &  58 & 19 & 366 & 139 & Bad    & 33 & 16 & Yes & Yes &  No  \\\\\n",
       "\t 12.57 & 138 & 108 & 17 & 203 & 128 & Good   & 33 & 14 & Yes & Yes &  Yes \\\\\n",
       "\t  6.14 & 139 &  23 &  3 &  37 & 120 & Medium & 55 & 11 & No  & Yes &  No  \\\\\n",
       "\t  7.41 & 162 &  26 & 12 & 368 & 159 & Medium & 40 & 18 & Yes & Yes &  No  \\\\\n",
       "\t  5.94 & 100 &  79 &  7 & 284 &  95 & Bad    & 50 & 12 & Yes & Yes &  No  \\\\\n",
       "\t  9.71 & 134 &  37 &  0 &  27 & 120 & Good   & 49 & 16 & Yes & Yes &  Yes \\\\\n",
       "\\end{tabular}\n"
      ],
      "text/markdown": [
       "\n",
       "A data.frame: 400 × 12\n",
       "\n",
       "| Sales &lt;dbl&gt; | CompPrice &lt;dbl&gt; | Income &lt;dbl&gt; | Advertising &lt;dbl&gt; | Population &lt;dbl&gt; | Price &lt;dbl&gt; | ShelveLoc &lt;fct&gt; | Age &lt;dbl&gt; | Education &lt;dbl&gt; | Urban &lt;fct&gt; | US &lt;fct&gt; | High &lt;fct&gt; |\n",
       "|---|---|---|---|---|---|---|---|---|---|---|---|\n",
       "|  9.50 | 138 |  73 | 11 | 276 | 120 | Bad    | 42 | 17 | Yes | Yes |  Yes  |\n",
       "| 11.22 | 111 |  48 | 16 | 260 |  83 | Good   | 65 | 10 | Yes | Yes |  Yes  |\n",
       "| 10.06 | 113 |  35 | 10 | 269 |  80 | Medium | 59 | 12 | Yes | Yes |  Yes  |\n",
       "|  7.40 | 117 | 100 |  4 | 466 |  97 | Medium | 55 | 14 | Yes | Yes |  No   |\n",
       "|  4.15 | 141 |  64 |  3 | 340 | 128 | Bad    | 38 | 13 | Yes | No  |  No   |\n",
       "| 10.81 | 124 | 113 | 13 | 501 |  72 | Bad    | 78 | 16 | No  | Yes |  Yes  |\n",
       "|  6.63 | 115 | 105 |  0 |  45 | 108 | Medium | 71 | 15 | Yes | No  |  No   |\n",
       "| 11.85 | 136 |  81 | 15 | 425 | 120 | Good   | 67 | 10 | Yes | Yes |  Yes  |\n",
       "|  6.54 | 132 | 110 |  0 | 108 | 124 | Medium | 76 | 10 | No  | No  |  No   |\n",
       "|  4.69 | 132 | 113 |  0 | 131 | 124 | Medium | 76 | 17 | No  | Yes |  No   |\n",
       "|  9.01 | 121 |  78 |  9 | 150 | 100 | Bad    | 26 | 10 | No  | Yes |  Yes  |\n",
       "| 11.96 | 117 |  94 |  4 | 503 |  94 | Good   | 50 | 13 | Yes | Yes |  Yes  |\n",
       "|  3.98 | 122 |  35 |  2 | 393 | 136 | Medium | 62 | 18 | Yes | No  |  No   |\n",
       "| 10.96 | 115 |  28 | 11 |  29 |  86 | Good   | 53 | 18 | Yes | Yes |  Yes  |\n",
       "| 11.17 | 107 | 117 | 11 | 148 | 118 | Good   | 52 | 18 | Yes | Yes |  Yes  |\n",
       "|  8.71 | 149 |  95 |  5 | 400 | 144 | Medium | 76 | 18 | No  | No  |  Yes  |\n",
       "|  7.58 | 118 |  32 |  0 | 284 | 110 | Good   | 63 | 13 | Yes | No  |  No   |\n",
       "| 12.29 | 147 |  74 | 13 | 251 | 131 | Good   | 52 | 10 | Yes | Yes |  Yes  |\n",
       "| 13.91 | 110 | 110 |  0 | 408 |  68 | Good   | 46 | 17 | No  | Yes |  Yes  |\n",
       "|  8.73 | 129 |  76 | 16 |  58 | 121 | Medium | 69 | 12 | Yes | Yes |  Yes  |\n",
       "|  6.41 | 125 |  90 |  2 | 367 | 131 | Medium | 35 | 18 | Yes | Yes |  No   |\n",
       "| 12.13 | 134 |  29 | 12 | 239 | 109 | Good   | 62 | 18 | No  | Yes |  Yes  |\n",
       "|  5.08 | 128 |  46 |  6 | 497 | 138 | Medium | 42 | 13 | Yes | No  |  No   |\n",
       "|  5.87 | 121 |  31 |  0 | 292 | 109 | Medium | 79 | 10 | Yes | No  |  No   |\n",
       "| 10.14 | 145 | 119 | 16 | 294 | 113 | Bad    | 42 | 12 | Yes | Yes |  Yes  |\n",
       "| 14.90 | 139 |  32 |  0 | 176 |  82 | Good   | 54 | 11 | No  | No  |  Yes  |\n",
       "|  8.33 | 107 | 115 | 11 | 496 | 131 | Good   | 50 | 11 | No  | Yes |  Yes  |\n",
       "|  5.27 |  98 | 118 |  0 |  19 | 107 | Medium | 64 | 17 | Yes | No  |  No   |\n",
       "|  2.99 | 103 |  74 |  0 | 359 |  97 | Bad    | 55 | 11 | Yes | Yes |  No   |\n",
       "|  7.81 | 104 |  99 | 15 | 226 | 102 | Bad    | 58 | 17 | Yes | Yes |  No   |\n",
       "| ... | ... | ... | ... | ... | ... | ... | ... | ... | ... | ... | ... |\n",
       "|  7.68 | 126 |  41 | 22 | 403 | 119 | Bad    | 42 | 12 | Yes | Yes |  No   |\n",
       "|  9.08 | 152 |  81 |  0 | 191 | 126 | Medium | 54 | 16 | Yes | No  |  Yes  |\n",
       "|  7.80 | 121 |  50 |  0 | 508 |  98 | Medium | 65 | 11 | No  | No  |  No   |\n",
       "|  5.58 | 137 |  71 |  0 | 402 | 116 | Medium | 78 | 17 | Yes | No  |  No   |\n",
       "|  9.44 | 131 |  47 |  7 |  90 | 118 | Medium | 47 | 12 | Yes | Yes |  Yes  |\n",
       "|  7.90 | 132 |  46 |  4 | 206 | 124 | Medium | 73 | 11 | Yes | No  |  No   |\n",
       "| 16.27 | 141 |  60 | 19 | 319 |  92 | Good   | 44 | 11 | Yes | Yes |  Yes  |\n",
       "|  6.81 | 132 |  61 |  0 | 263 | 125 | Medium | 41 | 12 | No  | No  |  No   |\n",
       "|  6.11 | 133 |  88 |  3 | 105 | 119 | Medium | 79 | 12 | Yes | Yes |  No   |\n",
       "|  5.81 | 125 | 111 |  0 | 404 | 107 | Bad    | 54 | 15 | Yes | No  |  No   |\n",
       "|  9.64 | 106 |  64 | 10 |  17 |  89 | Medium | 68 | 17 | Yes | Yes |  Yes  |\n",
       "|  3.90 | 124 |  65 | 21 | 496 | 151 | Bad    | 77 | 13 | Yes | Yes |  No   |\n",
       "|  4.95 | 121 |  28 | 19 | 315 | 121 | Medium | 66 | 14 | Yes | Yes |  No   |\n",
       "|  9.35 |  98 | 117 |  0 |  76 |  68 | Medium | 63 | 10 | Yes | No  |  Yes  |\n",
       "| 12.85 | 123 |  37 | 15 | 348 | 112 | Good   | 28 | 12 | Yes | Yes |  Yes  |\n",
       "|  5.87 | 131 |  73 | 13 | 455 | 132 | Medium | 62 | 17 | Yes | Yes |  No   |\n",
       "|  5.32 | 152 | 116 |  0 | 170 | 160 | Medium | 39 | 16 | Yes | No  |  No   |\n",
       "|  8.67 | 142 |  73 | 14 | 238 | 115 | Medium | 73 | 14 | No  | Yes |  Yes  |\n",
       "|  8.14 | 135 |  89 | 11 | 245 |  78 | Bad    | 79 | 16 | Yes | Yes |  Yes  |\n",
       "|  8.44 | 128 |  42 |  8 | 328 | 107 | Medium | 35 | 12 | Yes | Yes |  Yes  |\n",
       "|  5.47 | 108 |  75 |  9 |  61 | 111 | Medium | 67 | 12 | Yes | Yes |  No   |\n",
       "|  6.10 | 153 |  63 |  0 |  49 | 124 | Bad    | 56 | 16 | Yes | No  |  No   |\n",
       "|  4.53 | 129 |  42 | 13 | 315 | 130 | Bad    | 34 | 13 | Yes | Yes |  No   |\n",
       "|  5.57 | 109 |  51 | 10 |  26 | 120 | Medium | 30 | 17 | No  | Yes |  No   |\n",
       "|  5.35 | 130 |  58 | 19 | 366 | 139 | Bad    | 33 | 16 | Yes | Yes |  No   |\n",
       "| 12.57 | 138 | 108 | 17 | 203 | 128 | Good   | 33 | 14 | Yes | Yes |  Yes  |\n",
       "|  6.14 | 139 |  23 |  3 |  37 | 120 | Medium | 55 | 11 | No  | Yes |  No   |\n",
       "|  7.41 | 162 |  26 | 12 | 368 | 159 | Medium | 40 | 18 | Yes | Yes |  No   |\n",
       "|  5.94 | 100 |  79 |  7 | 284 |  95 | Bad    | 50 | 12 | Yes | Yes |  No   |\n",
       "|  9.71 | 134 |  37 |  0 |  27 | 120 | Good   | 49 | 16 | Yes | Yes |  Yes  |\n",
       "\n"
      ],
      "text/plain": [
       "    Sales CompPrice Income Advertising Population Price ShelveLoc Age Education\n",
       "1    9.50 138        73    11          276        120   Bad       42  17       \n",
       "2   11.22 111        48    16          260         83   Good      65  10       \n",
       "3   10.06 113        35    10          269         80   Medium    59  12       \n",
       "4    7.40 117       100     4          466         97   Medium    55  14       \n",
       "5    4.15 141        64     3          340        128   Bad       38  13       \n",
       "6   10.81 124       113    13          501         72   Bad       78  16       \n",
       "7    6.63 115       105     0           45        108   Medium    71  15       \n",
       "8   11.85 136        81    15          425        120   Good      67  10       \n",
       "9    6.54 132       110     0          108        124   Medium    76  10       \n",
       "10   4.69 132       113     0          131        124   Medium    76  17       \n",
       "11   9.01 121        78     9          150        100   Bad       26  10       \n",
       "12  11.96 117        94     4          503         94   Good      50  13       \n",
       "13   3.98 122        35     2          393        136   Medium    62  18       \n",
       "14  10.96 115        28    11           29         86   Good      53  18       \n",
       "15  11.17 107       117    11          148        118   Good      52  18       \n",
       "16   8.71 149        95     5          400        144   Medium    76  18       \n",
       "17   7.58 118        32     0          284        110   Good      63  13       \n",
       "18  12.29 147        74    13          251        131   Good      52  10       \n",
       "19  13.91 110       110     0          408         68   Good      46  17       \n",
       "20   8.73 129        76    16           58        121   Medium    69  12       \n",
       "21   6.41 125        90     2          367        131   Medium    35  18       \n",
       "22  12.13 134        29    12          239        109   Good      62  18       \n",
       "23   5.08 128        46     6          497        138   Medium    42  13       \n",
       "24   5.87 121        31     0          292        109   Medium    79  10       \n",
       "25  10.14 145       119    16          294        113   Bad       42  12       \n",
       "26  14.90 139        32     0          176         82   Good      54  11       \n",
       "27   8.33 107       115    11          496        131   Good      50  11       \n",
       "28   5.27  98       118     0           19        107   Medium    64  17       \n",
       "29   2.99 103        74     0          359         97   Bad       55  11       \n",
       "30   7.81 104        99    15          226        102   Bad       58  17       \n",
       "... ...   ...       ...    ...         ...        ...   ...       ... ...      \n",
       "371  7.68 126        41    22          403        119   Bad       42  12       \n",
       "372  9.08 152        81     0          191        126   Medium    54  16       \n",
       "373  7.80 121        50     0          508         98   Medium    65  11       \n",
       "374  5.58 137        71     0          402        116   Medium    78  17       \n",
       "375  9.44 131        47     7           90        118   Medium    47  12       \n",
       "376  7.90 132        46     4          206        124   Medium    73  11       \n",
       "377 16.27 141        60    19          319         92   Good      44  11       \n",
       "378  6.81 132        61     0          263        125   Medium    41  12       \n",
       "379  6.11 133        88     3          105        119   Medium    79  12       \n",
       "380  5.81 125       111     0          404        107   Bad       54  15       \n",
       "381  9.64 106        64    10           17         89   Medium    68  17       \n",
       "382  3.90 124        65    21          496        151   Bad       77  13       \n",
       "383  4.95 121        28    19          315        121   Medium    66  14       \n",
       "384  9.35  98       117     0           76         68   Medium    63  10       \n",
       "385 12.85 123        37    15          348        112   Good      28  12       \n",
       "386  5.87 131        73    13          455        132   Medium    62  17       \n",
       "387  5.32 152       116     0          170        160   Medium    39  16       \n",
       "388  8.67 142        73    14          238        115   Medium    73  14       \n",
       "389  8.14 135        89    11          245         78   Bad       79  16       \n",
       "390  8.44 128        42     8          328        107   Medium    35  12       \n",
       "391  5.47 108        75     9           61        111   Medium    67  12       \n",
       "392  6.10 153        63     0           49        124   Bad       56  16       \n",
       "393  4.53 129        42    13          315        130   Bad       34  13       \n",
       "394  5.57 109        51    10           26        120   Medium    30  17       \n",
       "395  5.35 130        58    19          366        139   Bad       33  16       \n",
       "396 12.57 138       108    17          203        128   Good      33  14       \n",
       "397  6.14 139        23     3           37        120   Medium    55  11       \n",
       "398  7.41 162        26    12          368        159   Medium    40  18       \n",
       "399  5.94 100        79     7          284         95   Bad       50  12       \n",
       "400  9.71 134        37     0           27        120   Good      49  16       \n",
       "    Urban US  High \n",
       "1   Yes   Yes  Yes \n",
       "2   Yes   Yes  Yes \n",
       "3   Yes   Yes  Yes \n",
       "4   Yes   Yes  No  \n",
       "5   Yes   No   No  \n",
       "6   No    Yes  Yes \n",
       "7   Yes   No   No  \n",
       "8   Yes   Yes  Yes \n",
       "9   No    No   No  \n",
       "10  No    Yes  No  \n",
       "11  No    Yes  Yes \n",
       "12  Yes   Yes  Yes \n",
       "13  Yes   No   No  \n",
       "14  Yes   Yes  Yes \n",
       "15  Yes   Yes  Yes \n",
       "16  No    No   Yes \n",
       "17  Yes   No   No  \n",
       "18  Yes   Yes  Yes \n",
       "19  No    Yes  Yes \n",
       "20  Yes   Yes  Yes \n",
       "21  Yes   Yes  No  \n",
       "22  No    Yes  Yes \n",
       "23  Yes   No   No  \n",
       "24  Yes   No   No  \n",
       "25  Yes   Yes  Yes \n",
       "26  No    No   Yes \n",
       "27  No    Yes  Yes \n",
       "28  Yes   No   No  \n",
       "29  Yes   Yes  No  \n",
       "30  Yes   Yes  No  \n",
       "... ...   ... ...  \n",
       "371 Yes   Yes  No  \n",
       "372 Yes   No   Yes \n",
       "373 No    No   No  \n",
       "374 Yes   No   No  \n",
       "375 Yes   Yes  Yes \n",
       "376 Yes   No   No  \n",
       "377 Yes   Yes  Yes \n",
       "378 No    No   No  \n",
       "379 Yes   Yes  No  \n",
       "380 Yes   No   No  \n",
       "381 Yes   Yes  Yes \n",
       "382 Yes   Yes  No  \n",
       "383 Yes   Yes  No  \n",
       "384 Yes   No   Yes \n",
       "385 Yes   Yes  Yes \n",
       "386 Yes   Yes  No  \n",
       "387 Yes   No   No  \n",
       "388 No    Yes  Yes \n",
       "389 Yes   Yes  Yes \n",
       "390 Yes   Yes  Yes \n",
       "391 Yes   Yes  No  \n",
       "392 Yes   No   No  \n",
       "393 Yes   Yes  No  \n",
       "394 No    Yes  No  \n",
       "395 Yes   Yes  No  \n",
       "396 Yes   Yes  Yes \n",
       "397 No    Yes  No  \n",
       "398 Yes   Yes  No  \n",
       "399 Yes   Yes  No  \n",
       "400 Yes   Yes  Yes "
      ]
     },
     "metadata": {},
     "output_type": "display_data"
    }
   ],
   "source": [
    "Carseats"
   ]
  },
  {
   "cell_type": "code",
   "execution_count": 9,
   "metadata": {},
   "outputs": [],
   "source": [
    "tree.carseats = tree(High~.-Sales, Carseats)"
   ]
  },
  {
   "cell_type": "code",
   "execution_count": 10,
   "metadata": {},
   "outputs": [
    {
     "data": {
      "text/plain": [
       "\n",
       "Classification tree:\n",
       "tree(formula = High ~ . - Sales, data = Carseats)\n",
       "Variables actually used in tree construction:\n",
       "[1] \"ShelveLoc\"   \"Price\"       \"Income\"      \"CompPrice\"   \"Population\" \n",
       "[6] \"Advertising\" \"Age\"         \"US\"         \n",
       "Number of terminal nodes:  27 \n",
       "Residual mean deviance:  0.4575 = 170.7 / 373 \n",
       "Misclassification error rate: 0.09 = 36 / 400 "
      ]
     },
     "metadata": {},
     "output_type": "display_data"
    }
   ],
   "source": [
    "summary(tree.carseats)"
   ]
  },
  {
   "cell_type": "markdown",
   "metadata": {},
   "source": [
    " A small deviance indicates a tree that provides a good fit to the (training) data. The residual mean deviance reported is simply the deviance divided by n−|T0|, which in this case is 400−27 = 373."
   ]
  },
  {
   "cell_type": "code",
   "execution_count": 14,
   "metadata": {},
   "outputs": [
    {
     "data": {
      "image/png": "[encoded data removed]",
      "text/plain": [
       "plot without title"
      ]
     },
     "metadata": {},
     "output_type": "display_data"
    }
   ],
   "source": [
    "plot(tree.carseats)\n",
    "text(tree.carseats, pretty=0)#The argument pretty=0 instructs R to include the category names for any qualitative predictors, rather than simply displaying a letter for each category"
   ]
  },
  {
   "cell_type": "markdown",
   "metadata": {},
   "source": [
    "In order to properly evaluate the performance of a classification tree on these data, we must estimate the test error rather than simply computing the training error. We split the observations into a training set and a test set, build the tree using the training set, and evaluate its performance on the test data. The predict() function can be used for this purpose. In the case of a classification tree, the argument type=\"class\" instructs R to return the actual class prediction. This approach leads to correct predictions for around 71.5 % of the locations in the test data set."
   ]
  },
  {
   "cell_type": "code",
   "execution_count": 18,
   "metadata": {},
   "outputs": [
    {
     "data": {
      "text/plain": [
       "         High.test\n",
       "tree.pred  No  Yes \n",
       "     No   104    33\n",
       "     Yes   13    50"
      ]
     },
     "metadata": {},
     "output_type": "display_data"
    }
   ],
   "source": [
    "set.seed (2)\n",
    "train = sample (1: nrow( Carseats ), 200)\n",
    "Carseats.test= Carseats[-train ,]\n",
    "High.test =High[- train ]\n",
    "tree.carseats =tree(High~.-Sales, Carseats , subset =train )\n",
    "tree.pred = predict(tree.carseats, Carseats.test ,type =\"class\")\n",
    "table(tree.pred ,High.test)"
   ]
  },
  {
   "cell_type": "markdown",
   "metadata": {},
   "source": [
    "Next, we consider whether pruning the tree might lead to improved results. The function cv.tree() performs cross-validation in order to determine the optimal level of tree complexity; cost complexity pruning is used in order to select a sequence of trees for consideration. We use the argument FUN=prune.misclass in order to indicate that we want the classification error rate to guide the cross-validation and pruning process, rather than the default for the cv.tree() function, which is deviance. The cv.tree() function reports the number of terminal nodes of each tree considered (size) as well as the corresponding error rate and the value of the cost-complexity parameter used (k, which corresponds to α)."
   ]
  },
  {
   "cell_type": "code",
   "execution_count": 20,
   "metadata": {},
   "outputs": [
    {
     "data": {
      "text/html": [
       "<ol class=list-inline>\n",
       "\t<li>'size'</li>\n",
       "\t<li>'dev'</li>\n",
       "\t<li>'k'</li>\n",
       "\t<li>'method'</li>\n",
       "</ol>\n"
      ],
      "text/latex": [
       "\\begin{enumerate*}\n",
       "\\item 'size'\n",
       "\\item 'dev'\n",
       "\\item 'k'\n",
       "\\item 'method'\n",
       "\\end{enumerate*}\n"
      ],
      "text/markdown": [
       "1. 'size'\n",
       "2. 'dev'\n",
       "3. 'k'\n",
       "4. 'method'\n",
       "\n",
       "\n"
      ],
      "text/plain": [
       "[1] \"size\"   \"dev\"    \"k\"      \"method\""
      ]
     },
     "metadata": {},
     "output_type": "display_data"
    },
    {
     "data": {
      "text/plain": [
       "$size\n",
       "[1] 21 19 14  9  8  5  3  2  1\n",
       "\n",
       "$dev\n",
       "[1] 74 76 81 81 75 77 78 85 81\n",
       "\n",
       "$k\n",
       "[1] -Inf  0.0  1.0  1.4  2.0  3.0  4.0  9.0 18.0\n",
       "\n",
       "$method\n",
       "[1] \"misclass\"\n",
       "\n",
       "attr(,\"class\")\n",
       "[1] \"prune\"         \"tree.sequence\""
      ]
     },
     "metadata": {},
     "output_type": "display_data"
    }
   ],
   "source": [
    "set.seed (3)\n",
    "cv.carseats =cv.tree(tree.carseats, FUN = prune.misclass)\n",
    "names(cv.carseats)\n",
    "cv.carseats #dev:cv error rate"
   ]
  },
  {
   "cell_type": "code",
   "execution_count": 22,
   "metadata": {},
   "outputs": [
    {
     "data": {
      "image/png": "[encoded data removed]",
      "text/plain": [
       "plot without title"
      ]
     },
     "metadata": {},
     "output_type": "display_data"
    },
    {
     "data": {
      "image/png": "[encoded data removed]",
      "text/plain": [
       "plot without title"
      ]
     },
     "metadata": {},
     "output_type": "display_data"
    }
   ],
   "source": [
    "plot(cv.carseats$size ,cv.carseats$dev, type =\"b\")\n",
    "plot(cv.carseats$k ,cv.carseats$dev, type =\"b\")"
   ]
  },
  {
   "cell_type": "code",
   "execution_count": 23,
   "metadata": {},
   "outputs": [
    {
     "data": {
      "image/png": "[encoded data removed]",
      "text/plain": [
       "plot without title"
      ]
     },
     "metadata": {},
     "output_type": "display_data"
    }
   ],
   "source": [
    "prune.carseats = prune.misclass ( tree.carseats , best =9)\n",
    "plot( prune.carseats )\n",
    "text( prune.carseats , pretty =0)"
   ]
  },
  {
   "cell_type": "code",
   "execution_count": 25,
   "metadata": {},
   "outputs": [
    {
     "data": {
      "text/plain": [
       "         High.test\n",
       "tree.pred  No  Yes \n",
       "     No    97    25\n",
       "     Yes   20    58"
      ]
     },
     "metadata": {},
     "output_type": "display_data"
    }
   ],
   "source": [
    "tree.pred = predict ( prune.carseats , Carseats.test , type =\"class\")\n",
    "table( tree.pred ,High.test)"
   ]
  },
  {
   "cell_type": "code",
   "execution_count": null,
   "metadata": {},
   "outputs": [],
   "source": []
  }
 ],
 "metadata": {
  "kernelspec": {
   "display_name": "R",
   "language": "R",
   "name": "ir"
  },
  "language_info": {
   "codemirror_mode": "r",
   "file_extension": ".r",
   "mimetype": "text/x-r-source",
   "name": "R",
   "pygments_lexer": "r",
   "version": "3.6.0"
  }
 },
 "nbformat": 4,
 "nbformat_minor": 2
}
